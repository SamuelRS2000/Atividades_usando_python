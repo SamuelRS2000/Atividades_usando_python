{
  "nbformat": 4,
  "nbformat_minor": 0,
  "metadata": {
    "colab": {
      "provenance": []
    },
    "kernelspec": {
      "name": "python3",
      "display_name": "Python 3"
    },
    "language_info": {
      "name": "python"
    }
  },
  "cells": [
    {
      "cell_type": "code",
      "execution_count": null,
      "metadata": {
        "colab": {
          "base_uri": "https://localhost:8080/",
          "height": 417
        },
        "id": "w15q3-SDGS3o",
        "outputId": "9fc4c75d-e1f6-4b15-9b61-8cd8d7793c22"
      },
      "outputs": [
        {
          "output_type": "stream",
          "name": "stdout",
          "text": [
            "                     FEQUENCIA DE CORTE\n",
            "╒════════════╤════════════╤════════════╤════════════╤═══════════╕\n",
            "│     1ºazul │     2ºazul │     3ºazul │      verde │   laranja │\n",
            "╞════════════╪════════════╪════════════╪════════════╪═══════════╡\n",
            "│ 8.0017e+14 │ 6.9547e+14 │ 6.1565e+14 │ 5.2628e+14 │ 4.805e+14 │\n",
            "╘════════════╧════════════╧════════════╧════════════╧═══════════╛\n",
            "Inclinação da reta m = 1.46082142516643e-14\n",
            " produ por e =  2.337314280266288e-33 \n"
          ]
        },
        {
          "output_type": "display_data",
          "data": {
            "text/plain": [
              "<Figure size 432x288 with 1 Axes>"
            ],
            "image/png": "[encoded data removed]"
          },
          "metadata": {
            "needs_background": "light"
          }
        }
      ],
      "source": [
        "import numpy as np\n",
        "import math as ma\n",
        "import sympy as sy\n",
        "import matplotlib.pyplot as plt\n",
        "from tabulate import tabulate\n",
        "\n",
        "k,m,u,n = 10**3,10**-3,10**-6,10**-9\n",
        "\n",
        "c = 3 *10**8   #(m/s)\n",
        "e = 1.6*10**-19 #carga elementar do eletron\n",
        "\n",
        "#                1ºazul  2ºazul  3ºazul  verde laranja\n",
        "Tens = np.array([12.38,  10.84,  9.95,   6.18,  5.31])\n",
        "ang  = np.array([13,     15,     17,     20,    22])\n",
        "cores = ['1ºazul','2ºazul','3ºazul','verde','laranja']\n",
        "'''\n",
        "#teste pronto\n",
        "Tens = np.array([0.865,0.722,0.705,0.428,0.314])\n",
        "\n",
        "ang  = np.array([10,21,13,15,19])\n",
        "'''\n",
        "#covertendo angulos para radianos\n",
        "ang = np.radians(ang)\n",
        "#encontando 'd'\n",
        "#1 milimetro com 600 linhas de espessura depresivel\n",
        "d = m/600   # esta em metros(m)\n",
        "#calculando a frequencia\n",
        "v = c/(d*np.sin(ang))                  #formula da difração de ba, para achar frequencia\n",
        "v = np.round(v/10**14,4)*10**14        #truque para arrendodar 4 casas mesmo sendo grande deve ter um jeito mais inteligente\n",
        "'''\n",
        "print(f'frequencia(v):')\n",
        "print('   1ºazul     2ºazul     3ºazul     verde     laranja')\n",
        "print(v)\n",
        "'''\n",
        "#plotanto tabela faz tempo\n",
        "table = np.array([cores,v])\n",
        "print('                     FEQUENCIA DE CORTE')\n",
        "print(tabulate(table, headers='firstrow', tablefmt='fancy_grid')) #impresão mais bonita com bordas continuas em vez de traços\n",
        "\n",
        "A = np.vstack([v, np.ones(len(v))]).T\n",
        "y = Tens\n",
        "m, c = np.linalg.lstsq(A, y, rcond=None)[0]\n",
        "\n",
        "print(f'Inclinação da reta m = {m}\\n produ por e =  {m*e} ')\n",
        "\n",
        "#plotando o grafico\n",
        "\n",
        "fig1 = plt.plot(v, y, 'o', label='Original data', markersize=10)\n",
        "fig2 = plt.plot(v, m*v + c, 'r', label='Fitted line')\n",
        "leg  = plt.legend()\n",
        "plt.show()\n",
        "\n"
      ]
    }
  ]
}